{
 "cells": [
  {
   "cell_type": "markdown",
   "metadata": {},
   "source": [
    "Suppose, a fruit-seller sold 20 mangoes and 10 oranges in one day for a total of . The next day he sold 17 mangoes and 22 oranges for . If the prices of the fruits remained unchanged on both the days, what was the price of one mango and one orange?"
   ]
  },
  {
   "cell_type": "code",
   "execution_count": 154,
   "metadata": {},
   "outputs": [
    {
     "name": "stdout",
     "output_type": "stream",
     "text": [
      "Mango Price 10.000000000000002\n",
      "Orange Price 14.999999999999996\n"
     ]
    }
   ],
   "source": [
    "import numpy as np\n",
    "A = np.array([[20, 10],\n",
    "              [17, 22]], dtype=np.float64)\n",
    "b = np.array([350, 500], dtype=np.float64)\n",
    "x = np.linalg.solve(A, b)\n",
    "\n",
    "print(\"Mango Price\",x[0])\n",
    "print(\"Orange Price\",x[1])"
   ]
  },
  {
   "cell_type": "markdown",
   "metadata": {},
   "source": [
    "1. Using Numpy to invert the matrices:"
   ]
  },
  {
   "cell_type": "code",
   "execution_count": 155,
   "metadata": {},
   "outputs": [
    {
     "name": "stdout",
     "output_type": "stream",
     "text": [
      "[[-2.73050828e+00  1.48528059e+00 -1.34659614e+00 -3.24862006e-02]\n",
      " [ 4.82405704e-01 -2.78748850e-01  2.33210672e-01  2.93238270e-02]\n",
      " [-6.54036339e-01  3.24287029e-01 -3.40616375e-01  6.72723091e-03]\n",
      " [ 2.00000000e+00 -1.00000000e+00  1.00000000e+00 -1.11022302e-16]]\n",
      "[[ 2.00000000e+00 -1.00000000e+00 -8.88178420e-16  3.33066907e-16]\n",
      " [-4.44089210e-16  2.00000000e+00 -1.00000000e+00  4.44089210e-16]\n",
      " [ 1.00000000e+00 -1.00000000e+00  2.00000000e+00 -1.00000000e+00]\n",
      " [-2.00000000e+00 -0.00000000e+00 -1.00000000e+00  1.00000000e+00]]\n"
     ]
    }
   ],
   "source": [
    "import numpy as np\n",
    "\n",
    "def inv_of_matrix(matrix):\n",
    "    try:\n",
    "        det = np.linalg.det(matrix)\n",
    "        if det != 0:\n",
    "            inv_matrix = np.linalg.inv(matrix)\n",
    "            return inv_matrix\n",
    "        else:\n",
    "            return None  \n",
    "    except np.linalg.LinAlgError:\n",
    "        return None\n",
    "    \n",
    "A = np.array([[3, -7, 45, 21],\n",
    "              [12, 11, 10, 17],\n",
    "              [6, 25, -80, -24],\n",
    "              [17, 55, -9, 7]], dtype=np.dtype(float))\n",
    "\n",
    "B = np.array([[1, 1, 1, 1],\n",
    "              [1, 2, 2, 2],\n",
    "              [2, 3, 4, 4],\n",
    "              [4, 5, 6, 7]], dtype=np.dtype(float))        \n",
    "\n",
    "print(inv_of_matrix(A))\n",
    "print(inv_of_matrix(B))"
   ]
  },
  {
   "cell_type": "markdown",
   "metadata": {},
   "source": [
    "2. Solve the following equations with the 3 methods in our class:"
   ]
  },
  {
   "cell_type": "code",
   "execution_count": 156,
   "metadata": {},
   "outputs": [],
   "source": [
    "import numpy as np\n",
    "\n",
    "# Step 1\n",
    "# Construct matrix and vector corresponding to the system of linear equations\n",
    "# AX = B\n",
    "\n",
    "A = np.array([[12, -2, 3, 1],\n",
    "              [-2, 15, 6, -3],\n",
    "              [1, 6, 20, -4],\n",
    "              [0, -3, 2, 9]], dtype=np.dtype(float))\n",
    "\n",
    "b = np.array([0, 0, 20, 0], dtype=np.dtype(float))"
   ]
  },
  {
   "cell_type": "code",
   "execution_count": 157,
   "metadata": {},
   "outputs": [
    {
     "data": {
      "text/plain": [
       "array([[12., -2.,  3.,  1.],\n",
       "       [-2., 15.,  6., -3.],\n",
       "       [ 1.,  6., 20., -4.],\n",
       "       [ 0., -3.,  2.,  9.]])"
      ]
     },
     "execution_count": 157,
     "metadata": {},
     "output_type": "execute_result"
    }
   ],
   "source": [
    "A"
   ]
  },
  {
   "cell_type": "code",
   "execution_count": 158,
   "metadata": {},
   "outputs": [
    {
     "data": {
      "text/plain": [
       "array([ 0.,  0., 20.,  0.])"
      ]
     },
     "execution_count": 158,
     "metadata": {},
     "output_type": "execute_result"
    }
   ],
   "source": [
    "b"
   ]
  },
  {
   "cell_type": "code",
   "execution_count": 159,
   "metadata": {},
   "outputs": [
    {
     "data": {
      "text/plain": [
       "26914.000000000025"
      ]
     },
     "execution_count": 159,
     "metadata": {},
     "output_type": "execute_result"
    }
   ],
   "source": [
    "# Step 2\n",
    "\n",
    "d = np.linalg.det(A)\n",
    "d"
   ]
  },
  {
   "cell_type": "code",
   "execution_count": 160,
   "metadata": {},
   "outputs": [
    {
     "name": "stdout",
     "output_type": "stream",
     "text": [
      "[[ 0.08738946  0.01597682 -0.01671992 -0.01181541]\n",
      " [ 0.01619975  0.08289366 -0.02860965  0.01311585]\n",
      " [-0.00780263 -0.01928364  0.05506428  0.01891209]\n",
      " [ 0.00713383  0.03191647 -0.02177305  0.11128037]]\n"
     ]
    }
   ],
   "source": [
    "# Solution 1: Using the inv() and dot() Methods\n",
    "\n",
    "inv_A = np.linalg.inv(A)\n",
    "print(inv_A)"
   ]
  },
  {
   "cell_type": "code",
   "execution_count": 161,
   "metadata": {},
   "outputs": [
    {
     "name": "stdout",
     "output_type": "stream",
     "text": [
      "[-0.33439845 -0.57219291  1.10128558 -0.4354611 ]\n"
     ]
    }
   ],
   "source": [
    "X = np.linalg.inv(A).dot(b)\n",
    "print(X)"
   ]
  },
  {
   "cell_type": "code",
   "execution_count": 162,
   "metadata": {},
   "outputs": [
    {
     "name": "stdout",
     "output_type": "stream",
     "text": [
      "Determinant of matrix A: 26914.000000000025\n",
      "Solution vector: [-0.33439845 -0.57219291  1.10128558 -0.4354611 ]\n"
     ]
    }
   ],
   "source": [
    "# Solution 2: Using the solve() Method\n",
    "\n",
    "x = np.linalg.solve(A,b)\n",
    "\n",
    "print(f\"Determinant of matrix A: {d}\")\n",
    "print(f\"Solution vector: {x}\")"
   ]
  },
  {
   "cell_type": "code",
   "execution_count": 224,
   "metadata": {},
   "outputs": [],
   "source": [
    "# Solution 3: Solve the System of Equations by Elementary Operations and Row Reduction\n",
    "\n",
    "def MultiplyRow(M, row_num, row_num_multiple):\n",
    "    # .copy() function is required here to keep the original matrix without any changes\n",
    "    M_new = M.copy()     \n",
    "    # exchange row_num of the matrix M_new with its multiple by row_num_multiple\n",
    "    # Note: for simplicity, you can drop check if  row_num_multiple has non-zero value, which makes the operation valid\n",
    "    M_new[row_num] = M_new[row_num] * row_num_multiple\n",
    "    return M_new\n",
    "    \n",
    "def AddRows(M, row_num_1, row_num_2, row_num_1_multiple):\n",
    "    M_new = M.copy()     \n",
    "    # multiply row_num_1 by row_num_1_multiple and add it to the row_num_2, \n",
    "    # exchanging row_num_2 of the matrix M_new with the result\n",
    "    M_new[row_num_2] += M_new[row_num_1] * row_num_1_multiple\n",
    "    return M_new\n",
    "\n",
    "def SwapRows(M, row_num_1, row_num_2):\n",
    "    M_new = M.copy()     \n",
    "    # exchange row_num_1 and row_num_2 of the matrix M_new\n",
    "    M_new[row_num_1] = M_new[row_num_1] + M_new[row_num_2]\n",
    "    M_new[row_num_2] = M_new[row_num_1] - M_new[row_num_2]\n",
    "    M_new[row_num_1] = M_new[row_num_1] - M_new[row_num_2]\n",
    "    return M_new"
   ]
  },
  {
   "cell_type": "code",
   "execution_count": 225,
   "metadata": {},
   "outputs": [
    {
     "name": "stdout",
     "output_type": "stream",
     "text": [
      "Original matrix:\n",
      "[[12. -2.  3.  1.]\n",
      " [-2. 15.  6. -3.]\n",
      " [ 1.  6. 20. -4.]\n",
      " [ 0. -3.  2.  9.]]\n",
      "[[  0.          88.          39.         -17.        ]\n",
      " [  0.          27.          46.         -11.        ]\n",
      " [  1.           0.          24.          14.        ]\n",
      " [  0.          -1.           0.66666667   3.        ]]\n"
     ]
    }
   ],
   "source": [
    "A_augmented = np.array([[12, -2, 3, 1],\n",
    "                        [-2, 15, 6, -3],\n",
    "                        [1, 6, 20, -4],\n",
    "                        [0, -3, 2, 9]], dtype=float)\n",
    "\n",
    "print(\"Original matrix:\")\n",
    "print(A_augmented)\n",
    "\n",
    "# R1 --> R1 + 6R2\n",
    "A_augmented = AddRows(A_augmented, 1, 0, 6)\n",
    "\n",
    "# R2 --> R2 + 2R3\n",
    "A_augmented = AddRows(A_augmented, 2, 1, 2)\n",
    "\n",
    "# R3 --> R3 + 2R4\n",
    "A_augmented = AddRows(A_augmented, 3, 2, 2)\n",
    "\n",
    "# R4 --> R4/3\n",
    "A_augmented = MultiplyRow(A_augmented, 3, 1/3)\n",
    "\n",
    "print(A_augmented)"
   ]
  },
  {
   "cell_type": "code",
   "execution_count": 226,
   "metadata": {},
   "outputs": [
    {
     "data": {
      "text/plain": [
       "array([[  1.        ,   0.        ,  24.        ,  14.        ],\n",
       "       [  0.        ,  27.        ,  46.        , -11.        ],\n",
       "       [  0.        ,  88.        ,  39.        , -17.        ],\n",
       "       [  0.        ,  -1.        ,   0.66666667,   3.        ]])"
      ]
     },
     "execution_count": 226,
     "metadata": {},
     "output_type": "execute_result"
    }
   ],
   "source": [
    "# Swap R1 and R3\n",
    "A_augmented = SwapRows(A_augmented, 0, 2)\n",
    "A_augmented"
   ]
  },
  {
   "cell_type": "code",
   "execution_count": 227,
   "metadata": {},
   "outputs": [
    {
     "data": {
      "text/plain": [
       "array([[  1.        ,   0.        ,  24.        ,  14.        ],\n",
       "       [  0.        ,  -1.        ,   0.66666667,   3.        ],\n",
       "       [  0.        ,  88.        ,  39.        , -17.        ],\n",
       "       [  0.        ,  27.        ,  46.        , -11.        ]])"
      ]
     },
     "execution_count": 227,
     "metadata": {},
     "output_type": "execute_result"
    }
   ],
   "source": [
    "# Swap R2 and R4\n",
    "A_augmented = SwapRows(A_augmented, 1, 3)\n",
    "A_augmented"
   ]
  },
  {
   "cell_type": "code",
   "execution_count": 228,
   "metadata": {},
   "outputs": [
    {
     "data": {
      "text/plain": [
       "array([[  1.        ,   0.        ,  24.        ,  14.        ],\n",
       "       [  0.        ,  -1.        ,   0.66666667,   3.        ],\n",
       "       [  0.        ,   0.        ,  97.66666667, 247.        ],\n",
       "       [  0.        ,   0.        ,  64.        ,  70.        ]])"
      ]
     },
     "execution_count": 228,
     "metadata": {},
     "output_type": "execute_result"
    }
   ],
   "source": [
    "# R3 --> R3 + 88R2\n",
    "A_augmented = AddRows(A_augmented, 1, 2, 88)\n",
    "\n",
    "# R4 --> R4 + 27R2\n",
    "A_augmented = AddRows(A_augmented, 1, 3, 27)\n",
    "A_augmented"
   ]
  },
  {
   "cell_type": "code",
   "execution_count": 229,
   "metadata": {},
   "outputs": [
    {
     "data": {
      "text/plain": [
       "array([[ 1.        ,  0.        , 24.        , 14.        ],\n",
       "       [ 0.        , -1.        ,  0.66666667,  3.        ],\n",
       "       [ 0.        ,  0.        ,  0.39541161,  1.        ],\n",
       "       [ 0.        ,  0.        ,  1.        ,  1.09375   ]])"
      ]
     },
     "execution_count": 229,
     "metadata": {},
     "output_type": "execute_result"
    }
   ],
   "source": [
    "# R4 --> R4/64\n",
    "A_augmented = MultiplyRow(A_augmented, 3, 1/64)\n",
    "\n",
    "# R3 --> R3/247\n",
    "A_augmented = MultiplyRow(A_augmented, 2, 1/247)\n",
    "A_augmented"
   ]
  },
  {
   "cell_type": "code",
   "execution_count": 231,
   "metadata": {},
   "outputs": [
    {
     "data": {
      "text/plain": [
       "array([[ 1.        ,  0.        , 24.        , 14.        ],\n",
       "       [ 0.        , -1.        ,  0.66666667,  3.        ],\n",
       "       [ 0.        ,  0.        ,  0.39541161,  1.        ],\n",
       "       [ 0.        ,  0.        ,  0.91428571,  1.        ]])"
      ]
     },
     "execution_count": 231,
     "metadata": {},
     "output_type": "execute_result"
    }
   ],
   "source": [
    "A_augmented = MultiplyRow(A_augmented, 3, 1/1.09375)\n",
    "A_augmented"
   ]
  },
  {
   "cell_type": "code",
   "execution_count": 232,
   "metadata": {},
   "outputs": [
    {
     "data": {
      "text/plain": [
       "array([[ 1.        ,  0.        , 24.        , 14.        ],\n",
       "       [ 0.        , -1.        , -0.51956815,  0.        ],\n",
       "       [ 0.        ,  0.        , -0.51887411,  0.        ],\n",
       "       [ 0.        ,  0.        ,  0.91428571,  1.        ]])"
      ]
     },
     "execution_count": 232,
     "metadata": {},
     "output_type": "execute_result"
    }
   ],
   "source": [
    "# R2 --> R2 - 3R3\n",
    "A_augmented = AddRows(A_augmented, 2, 1, -3)\n",
    "\n",
    "# R3 --> R3 - R4\n",
    "A_augmented = AddRows(A_augmented, 3, 2, -1)\n",
    "A_augmented"
   ]
  },
  {
   "cell_type": "code",
   "execution_count": 237,
   "metadata": {},
   "outputs": [],
   "source": [
    "A_matrix = np.array([[ 1.        ,  0.        , 24.        , 14.        ],\n",
    "       [ 0.        , -1.        , -0.51956815,  0.        ],\n",
    "       [ 0.        ,  0.        , -0.51887411,  0.        ],\n",
    "       [ 0.        ,  0.        ,  0.91428571,  1.        ]], dtype=float)\n",
    "\n",
    "\n",
    "b_matrix = np.array([0, 0, 20, 0], dtype=float)"
   ]
  },
  {
   "cell_type": "code",
   "execution_count": 238,
   "metadata": {},
   "outputs": [
    {
     "name": "stdout",
     "output_type": "stream",
     "text": [
      "Solution:\n",
      "[431.70394684  20.02675177 -38.54499505  35.24113816]\n"
     ]
    }
   ],
   "source": [
    "# Coefficient matrix A\n",
    "A_matrix = np.array([[1.0, 0.0, 24.0, 14.0],\n",
    "                     [0.0, -1.0, -0.51956815, 0.0],\n",
    "                     [0.0, 0.0, -0.51887411, 0.0],\n",
    "                     [0.0, 0.0, 0.91428571, 1.0]], dtype=float)\n",
    "\n",
    "# Right-hand side vector b\n",
    "b_matrix = np.array([0.0, 0.0, 20.0, 0.0], dtype=float)\n",
    "\n",
    "# Solve for X using numpy.linalg.solve\n",
    "X = np.linalg.solve(A_matrix, b_matrix)\n",
    "\n",
    "# Print the solution\n",
    "print(\"Solution:\")\n",
    "print(X)\n"
   ]
  },
  {
   "cell_type": "code",
   "execution_count": 239,
   "metadata": {},
   "outputs": [
    {
     "name": "stdout",
     "output_type": "stream",
     "text": [
      "Solution:\n",
      "[431.70394684  20.02675177 -38.54499505  35.24113816]\n"
     ]
    }
   ],
   "source": [
    "# Augmented matrix [A_matrix | b_matrix]\n",
    "augmented_matrix = np.array([[1.0, 0.0, 24.0, 14.0, 0.0],\n",
    "                              [0.0, -1.0, -0.51956815, 0.0, 0.0],\n",
    "                              [0.0, 0.0, -0.51887411, 0.0, 20.0],\n",
    "                              [0.0, 0.0, 0.91428571, 1.0, 0.0]], dtype=float)\n",
    "\n",
    "num_rows, num_cols = augmented_matrix.shape\n",
    "\n",
    "for col in range(num_cols - 2):\n",
    "    for row in range(col + 1, num_rows):\n",
    "        factor = augmented_matrix[row][col] / augmented_matrix[col][col]\n",
    "        augmented_matrix[row] -= factor * augmented_matrix[col]\n",
    "\n",
    "# Back-substitution\n",
    "variables = np.zeros(num_cols - 1)\n",
    "\n",
    "for row in range(num_rows - 1, -1, -1):\n",
    "    variables[row] = (augmented_matrix[row][-1] - np.dot(augmented_matrix[row][row + 1:num_cols - 1], variables[row + 1:num_cols - 1])) / augmented_matrix[row][row]\n",
    "\n",
    "# Print the solution\n",
    "print(\"Solution:\")\n",
    "print(variables)\n"
   ]
  },
  {
   "cell_type": "code",
   "execution_count": 240,
   "metadata": {},
   "outputs": [],
   "source": [
    "# while i have worked on notes, it has almost equal results but i have tried with different method \n",
    "\n",
    "x1 = 8.92\n",
    "x2 = 1.32\n",
    "x3 = 0.275\n",
    "x4 = 0.320\n",
    "\n",
    "There is an huge different in solutions, i have shared photos too"
   ]
  },
  {
   "cell_type": "markdown",
   "metadata": {},
   "source": [
    "3. Write a function calc_similarity(s1,s2) where s1 and s2 are strings (may have different size). From s1 and s2, the function should construct two vectors, v1 and v2, where v1[0] is the number of a’s in s1, v1[1] is the number b’s in s1, and so on until v1[25], which is the number of z’s in v1. The vector v2 should be similarly constructed from s2. The output should be cos(θ)."
   ]
  },
  {
   "cell_type": "code",
   "execution_count": 171,
   "metadata": {},
   "outputs": [
    {
     "name": "stdout",
     "output_type": "stream",
     "text": [
      "Cosine Similarity between 'abhinav' and 'venkatasatya': 0.65\n"
     ]
    }
   ],
   "source": [
    "import numpy as np\n",
    "from collections import Counter\n",
    "\n",
    "def construct_letter_frequency_vector(s):\n",
    "    # Initialize a vector of zeros for all 26 letters (a-z)\n",
    "    vector = np.zeros(26, dtype=int)\n",
    "    \n",
    "    # Count the occurrences of each letter in the string\n",
    "    letter_counts = Counter(s.lower())  # Convert to lowercase for case insensitivity\n",
    "    \n",
    "    # Populate the vector with letter frequencies\n",
    "    for i in range(26):\n",
    "        letter = chr(ord('a') + i)\n",
    "        vector[i] = letter_counts.get(letter, 0)\n",
    "    \n",
    "    return vector\n",
    "\n",
    "def calc_similarity(s1, s2):\n",
    "    # Construct letter frequency vectors v1 and v2 for s1 and s2\n",
    "    v1 = construct_letter_frequency_vector(s1)\n",
    "    v2 = construct_letter_frequency_vector(s2)\n",
    "\n",
    "    # Calculate the cosine similarity using the formula\n",
    "    dot_product = np.dot(v1, v2)\n",
    "    norm_v1 = np.linalg.norm(v1)\n",
    "    norm_v2 = np.linalg.norm(v2)\n",
    "\n",
    "    # Calculate the cosine similarity\n",
    "    if norm_v1 == 0 or norm_v2 == 0:\n",
    "        return 0.0  # Handle division by zero\n",
    "    else:\n",
    "        similarity = dot_product / (norm_v1 * norm_v2)\n",
    "        return similarity\n",
    "\n",
    "# Example usage:\n",
    "s1 = \"abhinav\"\n",
    "s2 = \"venkatasatya\"\n",
    "cosine_similarity = calc_similarity(s1, s2)\n",
    "print(f\"Cosine Similarity between '{s1}' and '{s2}': {cosine_similarity:.2f}\")"
   ]
  }
 ],
 "metadata": {
  "kernelspec": {
   "display_name": "base",
   "language": "python",
   "name": "python3"
  },
  "language_info": {
   "codemirror_mode": {
    "name": "ipython",
    "version": 3
   },
   "file_extension": ".py",
   "mimetype": "text/x-python",
   "name": "python",
   "nbconvert_exporter": "python",
   "pygments_lexer": "ipython3",
   "version": "3.11.4"
  },
  "orig_nbformat": 4
 },
 "nbformat": 4,
 "nbformat_minor": 2
}
