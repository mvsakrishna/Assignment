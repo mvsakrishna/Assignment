{
 "cells": [
  {
   "cell_type": "markdown",
   "metadata": {},
   "source": [
    "A crucial aspect of working effectively with lists in Python is understanding how Python applies its internal indexing\n",
    "structure to lists. For this assignment you will be creating, searching, and sorting lists you will create from the contents\n",
    "of a small text file containing data values that are separated by commas (also commonly referred to as a ‘CSV’ file\n",
    "(Comma Separated Values)) using some of the concepts we are learning about this week.\n",
    "Start by downloading the M3_Data40.txt file to your local environment.\n",
    "Then, open a new Jupyter Notebook and copy in the following small Python code snippet:"
   ]
  },
  {
   "cell_type": "code",
   "execution_count": 3,
   "metadata": {},
   "outputs": [
    {
     "name": "stdout",
     "output_type": "stream",
     "text": [
      "['Diagnosis', 'Age', 'Gender', 'PainType', 'BloodPres', 'Chol']\n",
      "['FALSE', '63', 'MALE', 'TYPICAL_ANGINA', '145', '233']\n",
      "['TRUE', '67', 'MALE', 'ASYMPTOMATIC', '160', '286']\n",
      "['TRUE', '67', 'MALE', 'ASYMPTOMATIC', '120', '229']\n",
      "['FALSE', '37', 'MALE', 'NON_ANGINAL', '130', '250']\n",
      "['FALSE', '41', 'FEMALE', 'ATYPICAL_ANGINA', '130', '204']\n",
      "['FALSE', '56', 'MALE', 'ATYPICAL_ANGINA', '120', '236']\n",
      "['TRUE', '62', 'FEMALE', 'ASYMPTOMATIC', '140', '268']\n",
      "['FALSE', '57', 'FEMALE', 'ASYMPTOMATIC', '120', '354']\n",
      "['TRUE', '63', 'MALE', 'ASYMPTOMATIC', '130', '254']\n",
      "['TRUE', '53', 'MALE', 'ASYMPTOMATIC', '140', '203']\n",
      "['FALSE', '57', 'MALE', 'ASYMPTOMATIC', '140', '192']\n",
      "['FALSE', '56', 'FEMALE', 'ATYPICAL_ANGINA', '140', '294']\n",
      "['TRUE', '56', 'MALE', 'NON_ANGINAL', '130', '256']\n",
      "['FALSE', '44', 'MALE', 'ATYPICAL_ANGINA', '120', '263']\n",
      "['FALSE', '52', 'MALE', 'NON_ANGINAL', '172', '199']\n",
      "['FALSE', '57', 'MALE', 'NON_ANGINAL', '150', '168']\n",
      "['TRUE', '48', 'MALE', 'ATYPICAL_ANGINA', '110', '229']\n",
      "['FALSE', '54', 'MALE', 'ASYMPTOMATIC', '140', '239']\n",
      "['FALSE', '48', 'FEMALE', 'NON_ANGINAL', '130', '275']\n",
      "['FALSE', '49', 'MALE', 'ATYPICAL_ANGINA', '130', '266']\n",
      "['FALSE', '64', 'MALE', 'TYPICAL_ANGINA', '110', '211']\n",
      "['FALSE', '58', 'FEMALE', 'TYPICAL_ANGINA', '150', '283']\n",
      "['TRUE', '58', 'MALE', 'ATYPICAL_ANGINA', '120', '284']\n",
      "['TRUE', '58', 'MALE', 'NON_ANGINAL', '132', '224']\n",
      "['TRUE', '60', 'MALE', 'ASYMPTOMATIC', '130', '206']\n",
      "['FALSE', '50', 'FEMALE', 'NON_ANGINAL', '120', '219']\n",
      "['FALSE', '58', 'FEMALE', 'NON_ANGINAL', '120', '340']\n",
      "['FALSE', '66', 'FEMALE', 'TYPICAL_ANGINA', '150', '226']\n",
      "['FALSE', '43', 'MALE', 'ASYMPTOMATIC', '150', '247']\n",
      "['TRUE', '40', 'MALE', 'ASYMPTOMATIC', '110', '167']\n",
      "['FALSE', '69', 'FEMALE', 'TYPICAL_ANGINA', '140', '239']\n",
      "['TRUE', '60', 'MALE', 'ASYMPTOMATIC', '117', '230']\n",
      "['TRUE', '64', 'MALE', 'NON_ANGINAL', '140', '335']\n",
      "['FALSE', '59', 'MALE', 'ASYMPTOMATIC', '135', '234']\n",
      "['FALSE', '44', 'MALE', 'NON_ANGINAL', '130', '233']\n",
      "['FALSE', '42', 'MALE', 'ASYMPTOMATIC', '140', '226']\n",
      "['TRUE', '43', 'MALE', 'ASYMPTOMATIC', '120', '177']\n",
      "['TRUE', '57', 'MALE', 'ASYMPTOMATIC', '150', '276']\n",
      "['TRUE', '55', 'MALE', 'ASYMPTOMATIC', '132', '353']\n",
      "['FALSE', '61', 'MALE', 'NON_ANGINAL', '150', '243']\n"
     ]
    }
   ],
   "source": [
    "# Importing the csv package\n",
    "import csv\n",
    "\n",
    "# Setting up path for local file and storing in variable\n",
    "with open('C:/Users/srikr/Downloads/M3_Data40.txt') as csvfile:\n",
    "    readCSV = csv.reader(csvfile)\n",
    "    for row in readCSV:\n",
    "        print(row)\n",
    "        \n",
    "# Above code is for importing, given data from local file to read file in python environment"
   ]
  },
  {
   "cell_type": "markdown",
   "metadata": {},
   "source": [
    "This code will read the contents of a file containing data values that are separated by commas in a line-by-line manner\n",
    "and print the contents of each line in the form of a Python list. Each item within that list will contain the corresponding\n",
    "element of the comma-separated line within the data file from which it came.\n",
    "Once you've run the code snippet, you will see that each line of the file contains six distinct values. For example, a print\n",
    "of the result of reading the first line will show the following:\n",
    "['FALSE', '63', 'MALE', 'TYPICAL_ANGINA', '145', '233']\n",
    "These six distinct values represent attributes of hospital patients who had complained of chest pain. Specifically we have\n",
    "the following:\n",
    "- Diagnosis (i.e., was the patient diagnosed with heart disease?)\n",
    "- Age\n",
    "- Gender\n",
    "- Type of chest pain\n",
    "- Blood pressure reading\n",
    "- Cholesterol level\n",
    "Now that you are familiar with the content of the file, complete the following 6 tasks"
   ]
  },
  {
   "cell_type": "markdown",
   "metadata": {},
   "source": [
    "Your first task is to read the file again and extract these six attributes from each line of the file and create\n",
    "six distinct Python list objects (one for each of the six attributes) comprised solely of the values you extracted for a\n",
    "given attribute. In other words, you should have separate lists for diagnosis, age, gender, etc. For example, the first\n",
    "five \"chest pain type\" values should be as follows:\n",
    "['TYPICAL_ANGINA', 'ASYMPTOMATIC', 'ASYMPTOMATIC', 'NON_ANGINAL', 'ATYPICAL_ANGINA']\n",
    "One way to complete this task would be to use the code snippet from above as a starting point: you could replace\n",
    "the “print(row)” statement with whatever Python code you feel is necessary to create the required list objects.\n",
    "When finished, each of your list objects should contain 40 data values.\n",
    "Note that the lists you have created thus far are composed solely of character strings. However, three of the\n",
    "attributes (Age, Blood Pressure, and Cholesterol) are clearly meant to be used as integer data values. As such, before\n",
    "proceeding any further, convert the contents of each of the ‘Age’, ‘Blood Pressure’, and ‘Cholesterol’ lists to integer\n",
    "value"
   ]
  },
  {
   "cell_type": "code",
   "execution_count": 4,
   "metadata": {},
   "outputs": [
    {
     "name": "stdout",
     "output_type": "stream",
     "text": [
      "[['FALSE', '63', 'MALE', 'TYPICAL_ANGINA', '145', '233'], ['TRUE', '67', 'MALE', 'ASYMPTOMATIC', '160', '286'], ['TRUE', '67', 'MALE', 'ASYMPTOMATIC', '120', '229'], ['FALSE', '37', 'MALE', 'NON_ANGINAL', '130', '250'], ['FALSE', '41', 'FEMALE', 'ATYPICAL_ANGINA', '130', '204'], ['FALSE', '56', 'MALE', 'ATYPICAL_ANGINA', '120', '236'], ['TRUE', '62', 'FEMALE', 'ASYMPTOMATIC', '140', '268'], ['FALSE', '57', 'FEMALE', 'ASYMPTOMATIC', '120', '354'], ['TRUE', '63', 'MALE', 'ASYMPTOMATIC', '130', '254'], ['TRUE', '53', 'MALE', 'ASYMPTOMATIC', '140', '203'], ['FALSE', '57', 'MALE', 'ASYMPTOMATIC', '140', '192'], ['FALSE', '56', 'FEMALE', 'ATYPICAL_ANGINA', '140', '294'], ['TRUE', '56', 'MALE', 'NON_ANGINAL', '130', '256'], ['FALSE', '44', 'MALE', 'ATYPICAL_ANGINA', '120', '263'], ['FALSE', '52', 'MALE', 'NON_ANGINAL', '172', '199'], ['FALSE', '57', 'MALE', 'NON_ANGINAL', '150', '168'], ['TRUE', '48', 'MALE', 'ATYPICAL_ANGINA', '110', '229'], ['FALSE', '54', 'MALE', 'ASYMPTOMATIC', '140', '239'], ['FALSE', '48', 'FEMALE', 'NON_ANGINAL', '130', '275'], ['FALSE', '49', 'MALE', 'ATYPICAL_ANGINA', '130', '266'], ['FALSE', '64', 'MALE', 'TYPICAL_ANGINA', '110', '211'], ['FALSE', '58', 'FEMALE', 'TYPICAL_ANGINA', '150', '283'], ['TRUE', '58', 'MALE', 'ATYPICAL_ANGINA', '120', '284'], ['TRUE', '58', 'MALE', 'NON_ANGINAL', '132', '224'], ['TRUE', '60', 'MALE', 'ASYMPTOMATIC', '130', '206'], ['FALSE', '50', 'FEMALE', 'NON_ANGINAL', '120', '219'], ['FALSE', '58', 'FEMALE', 'NON_ANGINAL', '120', '340'], ['FALSE', '66', 'FEMALE', 'TYPICAL_ANGINA', '150', '226'], ['FALSE', '43', 'MALE', 'ASYMPTOMATIC', '150', '247'], ['TRUE', '40', 'MALE', 'ASYMPTOMATIC', '110', '167'], ['FALSE', '69', 'FEMALE', 'TYPICAL_ANGINA', '140', '239'], ['TRUE', '60', 'MALE', 'ASYMPTOMATIC', '117', '230'], ['TRUE', '64', 'MALE', 'NON_ANGINAL', '140', '335'], ['FALSE', '59', 'MALE', 'ASYMPTOMATIC', '135', '234'], ['FALSE', '44', 'MALE', 'NON_ANGINAL', '130', '233'], ['FALSE', '42', 'MALE', 'ASYMPTOMATIC', '140', '226'], ['TRUE', '43', 'MALE', 'ASYMPTOMATIC', '120', '177'], ['TRUE', '57', 'MALE', 'ASYMPTOMATIC', '150', '276'], ['TRUE', '55', 'MALE', 'ASYMPTOMATIC', '132', '353'], ['FALSE', '61', 'MALE', 'NON_ANGINAL', '150', '243']]\n",
      "['FALSE', 'TRUE', 'TRUE', 'FALSE', 'FALSE', 'FALSE', 'TRUE', 'FALSE', 'TRUE', 'TRUE', 'FALSE', 'FALSE', 'TRUE', 'FALSE', 'FALSE', 'FALSE', 'TRUE', 'FALSE', 'FALSE', 'FALSE', 'FALSE', 'FALSE', 'TRUE', 'TRUE', 'TRUE', 'FALSE', 'FALSE', 'FALSE', 'FALSE', 'TRUE', 'FALSE', 'TRUE', 'TRUE', 'FALSE', 'FALSE', 'FALSE', 'TRUE', 'TRUE', 'TRUE', 'FALSE']\n",
      "[63, 67, 67, 37, 41, 56, 62, 57, 63, 53, 57, 56, 56, 44, 52, 57, 48, 54, 48, 49, 64, 58, 58, 58, 60, 50, 58, 66, 43, 40, 69, 60, 64, 59, 44, 42, 43, 57, 55, 61]\n",
      "['MALE', 'MALE', 'MALE', 'MALE', 'FEMALE', 'MALE', 'FEMALE', 'FEMALE', 'MALE', 'MALE', 'MALE', 'FEMALE', 'MALE', 'MALE', 'MALE', 'MALE', 'MALE', 'MALE', 'FEMALE', 'MALE', 'MALE', 'FEMALE', 'MALE', 'MALE', 'MALE', 'FEMALE', 'FEMALE', 'FEMALE', 'MALE', 'MALE', 'FEMALE', 'MALE', 'MALE', 'MALE', 'MALE', 'MALE', 'MALE', 'MALE', 'MALE', 'MALE']\n",
      "['TYPICAL_ANGINA', 'ASYMPTOMATIC', 'ASYMPTOMATIC', 'NON_ANGINAL', 'ATYPICAL_ANGINA', 'ATYPICAL_ANGINA', 'ASYMPTOMATIC', 'ASYMPTOMATIC', 'ASYMPTOMATIC', 'ASYMPTOMATIC', 'ASYMPTOMATIC', 'ATYPICAL_ANGINA', 'NON_ANGINAL', 'ATYPICAL_ANGINA', 'NON_ANGINAL', 'NON_ANGINAL', 'ATYPICAL_ANGINA', 'ASYMPTOMATIC', 'NON_ANGINAL', 'ATYPICAL_ANGINA', 'TYPICAL_ANGINA', 'TYPICAL_ANGINA', 'ATYPICAL_ANGINA', 'NON_ANGINAL', 'ASYMPTOMATIC', 'NON_ANGINAL', 'NON_ANGINAL', 'TYPICAL_ANGINA', 'ASYMPTOMATIC', 'ASYMPTOMATIC', 'TYPICAL_ANGINA', 'ASYMPTOMATIC', 'NON_ANGINAL', 'ASYMPTOMATIC', 'NON_ANGINAL', 'ASYMPTOMATIC', 'ASYMPTOMATIC', 'ASYMPTOMATIC', 'ASYMPTOMATIC', 'NON_ANGINAL']\n",
      "[145, 160, 120, 130, 130, 120, 140, 120, 130, 140, 140, 140, 130, 120, 172, 150, 110, 140, 130, 130, 110, 150, 120, 132, 130, 120, 120, 150, 150, 110, 140, 117, 140, 135, 130, 140, 120, 150, 132, 150]\n",
      "[233, 286, 229, 250, 204, 236, 268, 354, 254, 203, 192, 294, 256, 263, 199, 168, 229, 239, 275, 266, 211, 283, 284, 224, 206, 219, 340, 226, 247, 167, 239, 230, 335, 234, 233, 226, 177, 276, 353, 243]\n"
     ]
    }
   ],
   "source": [
    "# Initialize empty lists for each attributes\n",
    "diagnosis, age, gender, chest_pain_type, blood_pressure, cholesterol = [], [], [], [], [], []\n",
    "\n",
    "# Reading the CSV file from Downloads and skip the header row as to exclude data impurity\n",
    "with open('C:/Users/srikr/Downloads/M3_Data40.txt') as csvfile:\n",
    "    readCSV = csv.reader(csvfile)\n",
    "    next(readCSV)  # Skip the header row\n",
    "\n",
    "    # Use list comprehensions to extract data and populate lists\n",
    "    data = [row for row in readCSV]\n",
    "    print(data)\n",
    "    diagnosis = [row[0] for row in data]\n",
    "    age = [int(row[1]) for row in data]\n",
    "    gender = [row[2] for row in data]\n",
    "    chest_pain_type = [row[3] for row in data]\n",
    "    blood_pressure = [int(row[4]) for row in data]\n",
    "    cholesterol = [int(row[5]) for row in data]\n",
    "    \n",
    "# data is know lists of list. as we know sequence of list like diagnosis, age, gender, chest_pain_type, blood_pressure and cholesterol with help of indexing and int casting technique we can segregate them as per requirement.\n",
    "# List comprehension offers a shorter syntax, to create a new list based on the values of an existing list and printing the values for each attributes\n",
    "print(diagnosis)\n",
    "print(age)\n",
    "print(gender)\n",
    "print(chest_pain_type)\n",
    "print(blood_pressure)\n",
    "print(cholesterol)"
   ]
  },
  {
   "cell_type": "markdown",
   "metadata": {},
   "source": [
    "Your second task entails using the updated Cholesterol list to find the list index values of each hospital\n",
    "patient having a “cholesterol” reading that is greater than 250. Create a new list object with your result. HINT: you\n",
    "can accomplish this task by searching the list of cholesterol values you created as part of the first task. Be sure to\n",
    "print your results."
   ]
  },
  {
   "cell_type": "code",
   "execution_count": 6,
   "metadata": {},
   "outputs": [
    {
     "name": "stdout",
     "output_type": "stream",
     "text": [
      "List Index Values of Patients with Cholesterol > 250: [1, 6, 7, 8, 11, 12, 13, 18, 19, 21, 22, 26, 32, 37, 38]\n"
     ]
    }
   ],
   "source": [
    "# Above we have cholesterol list, with help of enumerate we can get the index and it's values of patients with cholesterol > 250\n",
    "high_cholesterol_index_patients = [i for i, value in enumerate(cholesterol) if value > 250]\n",
    "\n",
    "# Print the result \n",
    "print(\"List Index Values of Patients with Cholesterol > 250:\", high_cholesterol_index_patients)"
   ]
  },
  {
   "cell_type": "markdown",
   "metadata": {},
   "source": [
    "Your third task is to find the \"gender\" value for each hospital patient having a \"cholesterol\" value that is\n",
    "greater than 250. Create a new list to store your findings and be sure to print your results."
   ]
  },
  {
   "cell_type": "code",
   "execution_count": 7,
   "metadata": {},
   "outputs": [
    {
     "name": "stdout",
     "output_type": "stream",
     "text": [
      "Gender of patients with cholesterol > 250: ['MALE', 'FEMALE', 'FEMALE', 'MALE', 'FEMALE', 'MALE', 'MALE', 'FEMALE', 'MALE', 'FEMALE', 'MALE', 'FEMALE', 'MALE', 'MALE', 'MALE']\n"
     ]
    }
   ],
   "source": [
    "# Already we had high_cholesterol_index_of_patients, as index of these high_cholesterol_index_patients pass that index in gender lists and Find the \"gender\" value for patients with cholesterol > 250\n",
    "gender_high_cholesterol = [gender[i] for i in high_cholesterol_index_patients]\n",
    "\n",
    "# Print the results\n",
    "print(\"Gender of patients with cholesterol > 250:\", gender_high_cholesterol)"
   ]
  },
  {
   "cell_type": "markdown",
   "metadata": {},
   "source": [
    "Your fourth task is to find the index value for each hospital patient having an “age” value that is greater\n",
    "than or equal to 50 and a “pain type” value that is not \"ATYPICAL_ANGINA\". Create a new list to store your findings\n",
    "and be sure to print your results."
   ]
  },
  {
   "cell_type": "code",
   "execution_count": 8,
   "metadata": {},
   "outputs": [
    {
     "name": "stdout",
     "output_type": "stream",
     "text": [
      "Index values of selected patients: [0, 1, 2, 6, 7, 8, 9, 10, 12, 14, 15, 17, 20, 21, 23, 24, 25, 26, 27, 30, 31, 32, 33, 37, 38, 39]\n"
     ]
    }
   ],
   "source": [
    "# Find index values for patients with age >= 50 and non-'ATYPICAL_ANGINA' pain type\n",
    "selected_patients_indices = [i for i in range(len(age)) if age[i] >= 50 and chest_pain_type[i] != 'ATYPICAL_ANGINA']\n",
    "\n",
    "# Print the results\n",
    "print(\"Index values of selected patients:\", selected_patients_indices)"
   ]
  },
  {
   "cell_type": "markdown",
   "metadata": {},
   "source": [
    "Class Objects\n",
    "\n",
    "As we have learned, Python’s class objects allow us to manage related data in an “object oriented” fashion. For the\n",
    "remaining tasks in this assignment you will be constructing and applying your own Python class object to the\n",
    "M3_Data40.txt data."
   ]
  },
  {
   "cell_type": "markdown",
   "metadata": {},
   "source": [
    "Create a new Python class to store and manage the information contained within the M3_Data40.txt\n",
    "file. Your new class should be named “PatientData” and should include a class variable ‘PatientCount’ that\n",
    "represents a counter indicative of the number of PatientData objects that have been instantiated within your\n",
    "current Python session. The class must also contain seven instance variables including a unique ID for each patient\n",
    "(use the name ‘uniqueID’ for this instance variable) and six additional instance variables corresponding to the six\n",
    "different hospital patient attributes contained within the M3_Data40.txt file. Each time you create a new instance of\n",
    "the class the ‘uniqueID’ instance variable value for the new object should be assigned the existing value of the\n",
    "“PatientCount” class variable. The new instance should then increment the ‘PatientCount’ class variable by 1 (after\n",
    "assigning its previous value to the ‘uniqueID’ instance variable as mentioned above."
   ]
  },
  {
   "cell_type": "code",
   "execution_count": 9,
   "metadata": {},
   "outputs": [],
   "source": [
    "class PatientData:\n",
    "    # Class variable to count instances\n",
    "    PatientCount = 0\n",
    "\n",
    "    def __init__(self, diagnosis, age, gender, chest_pain_type, blood_pressure, cholesterol):\n",
    "        # Increment the class variable and assign it to uniqueID\n",
    "        PatientData.PatientCount += 1\n",
    "        self.uniqueID = PatientData.PatientCount\n",
    "\n",
    "        # Assign other instance variables\n",
    "        self.diagnosis = diagnosis\n",
    "        self.age = age\n",
    "        self.gender = gender\n",
    "        self.chest_pain_type = chest_pain_type\n",
    "        self.blood_pressure = blood_pressure\n",
    "        self.cholesterol = cholesterol"
   ]
  },
  {
   "cell_type": "markdown",
   "metadata": {},
   "source": [
    "Read the M3_Data40.txt file again and store its content into a list of PatientData class objects, with\n",
    "each row within the file being loaded into a distinct PatientData class object within that list. If you have defined your\n",
    "PatientData class correctly according to the specifications provided in Problem 5, each class object within your list\n",
    "should then contain the content of one row of the data file, with each hospital patient attribute value having been\n",
    "assigned to a distinct instance variable within the class object, as well as a distinct uniqueID value that was\n",
    "automatically assigned by the PatientData class when you read the corresponding row from the data file into the\n",
    "class object. Then, using your list of PatientData objects, find the uniqueID for each hospital patient having an ‘age’\n",
    "value of less than 56 and a “diagnosis” value of \"TRUE\". Create a new list to store your findings and be sure to print\n",
    "your results."
   ]
  },
  {
   "cell_type": "code",
   "execution_count": 10,
   "metadata": {},
   "outputs": [
    {
     "name": "stdout",
     "output_type": "stream",
     "text": [
      "Unique IDs for patients with age < 56 and diagnosis == 'TRUE': [10, 17, 30, 37, 39]\n"
     ]
    }
   ],
   "source": [
    "# Reading Data and Creating PatientData Objects\n",
    "patient_data_list = []\n",
    "\n",
    "# Read the CSV file again and skip the header row\n",
    "with open('C:/Users/srikr/Downloads/M3_Data40.txt') as csvfile:\n",
    "    readCSV = csv.reader(csvfile)\n",
    "    next(readCSV)  # Skip the header row\n",
    "\n",
    "    # Create PatientData objects and append to the list\n",
    "    for row in readCSV:\n",
    "        diagnosis, age, gender, chest_pain_type, blood_pressure, cholesterol = row # the values from the CSV row converting into variables.\n",
    "        age = int(age) # typecasting to integer\n",
    "        blood_pressure = int(blood_pressure) # typecasting to integer\n",
    "        cholesterol = int(cholesterol) # typecasting to integer\n",
    "        patient = PatientData(diagnosis, age, gender, chest_pain_type, blood_pressure, cholesterol)\n",
    "        patient_data_list.append(patient)\n",
    "\n",
    "#  Access the age and diagnosis through variable patient and Find Unique IDs for Patients having age less than 56 and diagnosis as TRUE\n",
    "selected_patients = [patient.uniqueID for patient in patient_data_list if patient.age < 56 and patient.diagnosis == 'TRUE']\n",
    "\n",
    "# Print the results\n",
    "print(\"Unique IDs for patients with age < 56 and diagnosis == 'TRUE':\", selected_patients)"
   ]
  },
  {
   "cell_type": "markdown",
   "metadata": {},
   "source": [
    "Be sure to include some commentary within formatted Markdown cells explaining your approach to solving each of\n",
    "the individual problems. When you are finished, save the Jupyter Notebook containing your work and commentary and\n",
    "upload / submit it within the provided M3 Assignment Canvas submission portal. Be sure to save your Notebook using\n",
    "the following nomenclature: first initial_last name_M3_assn\" (e.g., J_Smith_M3_assn_)."
   ]
  },
  {
   "cell_type": "code",
   "execution_count": 11,
   "metadata": {},
   "outputs": [
    {
     "name": "stdout",
     "output_type": "stream",
     "text": [
      "Task 2: List Index Values of Patients with Cholesterol > 250: [1, 6, 7, 8, 11, 12, 13, 18, 19, 21, 22, 26, 32, 37, 38]\n",
      "Task 3: Gender of Patients with High Cholesterol: ['MALE', 'FEMALE', 'FEMALE', 'MALE', 'FEMALE', 'MALE', 'MALE', 'FEMALE', 'MALE', 'FEMALE', 'MALE', 'FEMALE', 'MALE', 'MALE', 'MALE']\n",
      "Task 4: Index Values for Patients with Age >= 50 and Non-ATYPICAL_ANGINA Pain Type: [0, 1, 2, 6, 7, 8, 9, 10, 12, 14, 15, 17, 20, 21, 23, 24, 25, 26, 27, 30, 31, 32, 33, 37, 38, 39]\n",
      "Task 6: Unique IDs for Patients with Age < 56 and Diagnosis == 'TRUE': [10, 17, 30, 37, 39]\n"
     ]
    }
   ],
   "source": [
    "import csv\n",
    "\n",
    "# Task 1: Reading the CSV File and Creating Lists\n",
    "diagnosis = []\n",
    "age = []\n",
    "gender = []\n",
    "chest_pain_type = []\n",
    "blood_pressure = []\n",
    "cholesterol = []\n",
    "\n",
    "# Read the CSV file and skip the header row\n",
    "with open('C:/Users/srikr/Downloads/M3_Data40.txt') as csvfile:\n",
    "    readCSV = csv.reader(csvfile)\n",
    "    next(readCSV)  # Skip the header row\n",
    "\n",
    "    # Extract data and populate lists\n",
    "    for row in readCSV:\n",
    "        diagnosis.append(row[0])\n",
    "        age.append(int(row[1]))\n",
    "        gender.append(row[2])\n",
    "        chest_pain_type.append(row[3])\n",
    "        blood_pressure.append(int(row[4]))\n",
    "        cholesterol.append(int(row[5]))\n",
    "\n",
    "# Task 2: Finding Cholesterol Values > 250\n",
    "high_cholesterol_index_patients = [i for i, chol in enumerate(cholesterol) if chol > 250]\n",
    "\n",
    "# Task 3: Finding Gender for Patients with High Cholesterol\n",
    "gender_high_cholesterol = [gender[i] for i in high_cholesterol_index_patients]\n",
    "\n",
    "# Task 4: Finding Index Values for Patients with Age >= 50 and Non-ATYPICAL_ANGINA Pain Type\n",
    "selected_indices = [i for i, (a, pain) in enumerate(zip(age, chest_pain_type)) if a >= 50 and pain != 'ATYPICAL_ANGINA']\n",
    "\n",
    "# Task 5: Creating the PatientData Class\n",
    "class PatientData:\n",
    "    PatientCount = 0\n",
    "    \n",
    "    def __init__(self, diagnosis, age, gender, chest_pain_type, blood_pressure, cholesterol):\n",
    "        PatientData.PatientCount += 1\n",
    "        self.uniqueID = PatientData.PatientCount\n",
    "        self.diagnosis = diagnosis\n",
    "        self.age = age\n",
    "        self.gender = gender\n",
    "        self.chest_pain_type = chest_pain_type\n",
    "        self.blood_pressure = blood_pressure\n",
    "        self.cholesterol = cholesterol\n",
    "\n",
    "# Task 6: Reading Data and Creating PatientData Objects\n",
    "patient_data_list = []\n",
    "\n",
    "# Read the CSV file again and skip the header row\n",
    "with open('C:/Users/srikr/Downloads/M3_Data40.txt') as csvfile:\n",
    "    readCSV = csv.reader(csvfile)\n",
    "    next(readCSV)  # Skip the header row\n",
    "\n",
    "    # Create PatientData objects and append to the list\n",
    "    for row in readCSV:\n",
    "        diagnosis, age, gender, chest_pain_type, blood_pressure, cholesterol = row\n",
    "        age = int(age)\n",
    "        blood_pressure = int(blood_pressure)\n",
    "        cholesterol = int(cholesterol)\n",
    "        patient = PatientData(diagnosis, age, gender, chest_pain_type, blood_pressure, cholesterol)\n",
    "        patient_data_list.append(patient)\n",
    "\n",
    "# Task 6 (Continued): Finding Unique IDs for Patients Meeting Criteria\n",
    "selected_patients = [patient.uniqueID for patient in patient_data_list if patient.age < 56 and patient.diagnosis == 'TRUE']\n",
    "\n",
    "# Print the results for all tasks\n",
    "print(\"Task 2: List Index Values of Patients with Cholesterol > 250:\", high_cholesterol_index_patients)\n",
    "print(\"Task 3: Gender of Patients with High Cholesterol:\", gender_high_cholesterol)\n",
    "print(\"Task 4: Index Values for Patients with Age >= 50 and Non-ATYPICAL_ANGINA Pain Type:\", selected_indices)\n",
    "print(\"Task 6: Unique IDs for Patients with Age < 56 and Diagnosis == 'TRUE':\", selected_patients)"
   ]
  },
  {
   "cell_type": "markdown",
   "metadata": {},
   "source": [
    "Write a loop that accepts a string and produces a new string with the characters in reverse order. For example: 'analytics' would become 'scitylana'. Make use of Python's __input__ function to capute the string from a user."
   ]
  },
  {
   "cell_type": "code",
   "execution_count": 12,
   "metadata": {},
   "outputs": [
    {
     "name": "stdout",
     "output_type": "stream",
     "text": [
      "Input string: analytics\n",
      "Reversed string: scitylana\n"
     ]
    }
   ],
   "source": [
    "# Accept a string from the user\n",
    "input_string = input(\"Enter a string: \")\n",
    "print(\"Input string:\", input_string)\n",
    "\n",
    "# Initialize an empty string to store the reversed characters\n",
    "reversed_string = \"\"\n",
    "\n",
    "# Iterate through the characters in the input_string in reverse order\n",
    "for char in reversed(input_string):\n",
    "    reversed_string += char\n",
    "\n",
    "# Print the reversed string\n",
    "print(\"Reversed string:\", reversed_string)"
   ]
  },
  {
   "cell_type": "markdown",
   "metadata": {},
   "source": [
    "Write a loop that accepts a string and produces a list composed of items that each have at least 2 sequential characters from the original string, with the exception of the last element of the list which will contain any remaining individual character from the original string. For example: 'analytics' would become ['an', 'al', 'yt', 'ic', 's']"
   ]
  },
  {
   "cell_type": "code",
   "execution_count": 13,
   "metadata": {},
   "outputs": [
    {
     "name": "stdout",
     "output_type": "stream",
     "text": [
      "Input string: analytics\n",
      "List of items: ['an', 'al', 'yt', 'ic', 's']\n"
     ]
    }
   ],
   "source": [
    "# Accept a string from the user\n",
    "input_string = input(\"Enter a string: \")\n",
    "print(\"Input string:\", input_string)\n",
    "\n",
    "# Initialize an empty list to store the items\n",
    "items_list = []\n",
    "\n",
    "# Initialize a variable to store the current item\n",
    "current_item = \"\"\n",
    "\n",
    "# Iterate through the characters of the input string\n",
    "for char in input_string:\n",
    "    # Add the current character to the current item\n",
    "    current_item += char\n",
    "\n",
    "    # Check if the current item has at least two characters\n",
    "    if len(current_item) >= 3:\n",
    "        items_list.append(current_item[:-1])  # Append all but the last character\n",
    "        current_item = char  # Start a new current item with the current character\n",
    "\n",
    "# Append the last current item to the list\n",
    "items_list.append(current_item)\n",
    "\n",
    "# Print the list of items\n",
    "print(\"List of items:\", items_list)"
   ]
  }
 ],
 "metadata": {
  "kernelspec": {
   "display_name": "base",
   "language": "python",
   "name": "python3"
  },
  "language_info": {
   "codemirror_mode": {
    "name": "ipython",
    "version": 3
   },
   "file_extension": ".py",
   "mimetype": "text/x-python",
   "name": "python",
   "nbconvert_exporter": "python",
   "pygments_lexer": "ipython3",
   "version": "3.11.4"
  },
  "orig_nbformat": 4
 },
 "nbformat": 4,
 "nbformat_minor": 2
}
